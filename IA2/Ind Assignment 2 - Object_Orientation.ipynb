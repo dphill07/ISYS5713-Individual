{
 "cells": [
  {
   "cell_type": "markdown",
   "metadata": {
    "collapsed": false
   },
   "source": [
    "# Try it– Developing Classes and Manipulating Objects\n",
    "\n",
    "The objective of this assignment is to provide you with hands-on experience in creating and manipulating objects in Python using object-oriented programming concepts. You will gain proficiency in defining classes, creating instances, setting attributes, and implementing methods.\n",
    "\n",
    "*Optional*: Add this notebook to your repository that you created for assignment 1 (or a new repository).  At each stage, commit and push your changes to a remote repository so you can keep track of the changes.\n",
    "\n",
    "## Step 1 - Object Instantiation\n",
    "Here we are going to play around with creating instances of the classes that have been defined for you above.  Creating new instances and manipulating them after the fact."
   ]
  },
  {
   "cell_type": "code",
   "execution_count": 165,
   "metadata": {},
   "outputs": [],
   "source": [
    "# This module contains the People class, which is used to create a list of people and the different types of people in our system\n",
    "# Create a class called Person which is the base class from which other classes will inherit\n",
    "class Person:\n",
    "\n",
    "    # Creating the properties of the Person class\n",
    "    id = 0\n",
    "    first_name = \"\"\n",
    "    last_name = \"\"\n",
    "    \n",
    "    # A person has an ID, first name and last name \n",
    "    def __init__(self, id, first_name, last_name):\n",
    "        self.id = id\n",
    "        self.first_name = first_name\n",
    "        self.last_name = last_name\n",
    "    \n",
    "    # The id property is a unique identifier for each person\n",
    "    def get_id(self):\n",
    "        return self.id\n",
    "    \n",
    "    def set_id(self, id):\n",
    "        # Check if the id is a positive integer, if not raise an exception\n",
    "        if id < 0:\n",
    "            raise ValueError(\"ID must be a positive integer\")\n",
    "        self.id = id\n",
    "\n",
    "    # The string representation of a person is their first name and last name\n",
    "    def __str__(self):\n",
    "        return f'{self.first_name} {self.last_name}'"
   ]
  },
  {
   "cell_type": "markdown",
   "metadata": {},
   "source": [
    "### Your Turn - Part 1\n",
    "The next cell shows how to use the class we created above.  Remember a class is a blueprint, a container of sorts, which has spots for all the data we want to store about a particular \"thing\" (in this case, the thing is a person.)  We can fill in the data about the \"thing\" when we create an instance of the the thing (using a special function called a constructor ```__init__```) or we can set these values after we create the person."
   ]
  },
  {
   "cell_type": "code",
   "execution_count": 166,
   "metadata": {},
   "outputs": [
    {
     "name": "stdout",
     "output_type": "stream",
     "text": [
      "Id:  1\n",
      "First Name:  John\n",
      "Last Name:  Smith\n"
     ]
    }
   ],
   "source": [
    "# Create a person called John Smith\n",
    "new_person = Person(1,\"John\", \"Smith\")\n",
    "# Print out the person's details:\n",
    "#  Print the person's ID\n",
    "print(\"Id: \", new_person.id)\n",
    "#  Print the person's first name\n",
    "print(\"First Name: \", new_person.first_name)\n",
    "#  Print the person's last name\n",
    "print(\"Last Name: \", new_person.last_name)"
   ]
  },
  {
   "cell_type": "markdown",
   "metadata": {},
   "source": [
    "Following the comments below, create a new person object (an instance of the Person class), print their details, change their name and print their details again.\n",
    "\n",
    "**_Note_: You can break this up into as many cells as you find helpful**"
   ]
  },
  {
   "cell_type": "code",
   "execution_count": 167,
   "metadata": {},
   "outputs": [
    {
     "name": "stdout",
     "output_type": "stream",
     "text": [
      "Id:  2\n",
      "First Name:  Susan\n",
      "Last Name:  Jones\n"
     ]
    }
   ],
   "source": [
    "# Create a person called Susan Jones with ID 2\n",
    "susan = Person(2, \"Susan\", \"Jones\")\n",
    "# Print out Susan's details:\n",
    "#  Print the Susan's ID\n",
    "print(\"Id: \", susan.id)\n",
    "#  Print the Susan's first name\n",
    "print(\"First Name: \", susan.first_name)\n",
    "#  Print the Susan's last name\n",
    "print(\"Last Name: \", susan.last_name)"
   ]
  },
  {
   "cell_type": "markdown",
   "metadata": {},
   "source": [
    "Susan and John decided to get married and so Susan changed her last name.  Update the object with Susan's information to reflect her new name.  (Don't create a new object, just update the current one)"
   ]
  },
  {
   "cell_type": "code",
   "execution_count": 168,
   "metadata": {},
   "outputs": [
    {
     "name": "stdout",
     "output_type": "stream",
     "text": [
      "Id:  2\n",
      "First Name:  Susan\n",
      "Last Name:  Smith-Jones\n"
     ]
    }
   ],
   "source": [
    "# Change the person's last name to Smith-Jones\n",
    "susan.last_name = \"Smith-Jones\"\n",
    "# Print out the person's details again\n",
    "#  Print the Susan's ID\n",
    "print(\"Id: \", susan.id)\n",
    "#  Print the Susan's first name\n",
    "print(\"First Name: \", susan.first_name)\n",
    "#  Print the Susan's last name\n",
    "print(\"Last Name: \", susan.last_name)"
   ]
  },
  {
   "cell_type": "markdown",
   "metadata": {},
   "source": [
    "## Step 2 - Class inheritance\n",
    "Now we are going to get a little more specific and define Instructors, which are a special kind of \"Person\" that happens to teach courses at our university.  The following code snippet defines the instructor class and the course class"
   ]
  },
  {
   "cell_type": "code",
   "execution_count": 169,
   "metadata": {},
   "outputs": [],
   "source": [
    "# Create a class called course\n",
    "# A course is a class that a student can take and an instructor can teach\n",
    "class Course:\n",
    "    course_number = 0\n",
    "    course_name = \"\"\n",
    "    description = \"\"\n",
    "    department = \"\"\n",
    "    credits = 0\n",
    "\n",
    "    # A course has a course ID, course name, description, department and credits\n",
    "    def __init__(self, course_number, course_name, description, department, credits):\n",
    "        self.course_number = course_number\n",
    "        self.course_name = course_name\n",
    "        self.description = description\n",
    "        self.department = department\n",
    "        self.credits = credits\n",
    "\n",
    "    # The course number is a unique identifier for each course which must be greater than 0\n",
    "    def set_course_number(self, course_number):\n",
    "        if course_number < 0:\n",
    "            raise ValueError(\"Course number must be a positive integer\")\n",
    "        self.course_number = course_number\n",
    "    \n",
    "    # The course ID is a combination of the department and course number\n",
    "    # It can't be set directly, but can be retrieved\n",
    "    def course_id(self):\n",
    "        return f'{self.department}{self.course_number}'\n",
    "    \n",
    "    # The string representation of a course is the ID and the course name\n",
    "    def __str__(self):\n",
    "        return f'{self.course_id()} {self.course_name}'\n",
    "\n",
    "# Create a class called Instructor which inherits from the Person class\n",
    "# An instructor is a person who teaches one or more courses\n",
    "class Instructor(Person):\n",
    "    courses_teaching = []\n",
    "\n",
    "    # An instructor has an ID, first name, last name, and first year teaching\n",
    "    def __init__(self, id, first_name, last_name, first_year_teaching):\n",
    "        # Initialize the Person class\n",
    "        super().__init__(id, first_name, last_name)\n",
    "        self.first_year_teaching = first_year_teaching\n",
    "\n",
    "    # An instructor can teach a course\n",
    "    def add_course(self, course):\n",
    "        self.courses_teaching.append(course)\n",
    "\n",
    "    # An instructor can stop teaching a course\n",
    "    def remove_course(self, course):\n",
    "        self.courses_teaching.remove(course)\n",
    "\n",
    "    # An instructor can get a list of courses they are teaching\n",
    "    def get_courses(self):\n",
    "        return self.courses_teaching"
   ]
  },
  {
   "cell_type": "markdown",
   "metadata": {},
   "source": [
    "Notice we have added a property (```courses```) and a few methods for dealing with the courses ```add_course()```, ```remove_course()``` and ```get_courses()```.\n",
    "\n",
    "We'll start by defining a few courses.  Also notice that we have updated the ```__str__()``` method, which defines how an object is represented when we ```print()``` the object.  So rather than the default, we actually get something a bit prettier which is super helpful to us."
   ]
  },
  {
   "cell_type": "code",
   "execution_count": 170,
   "metadata": {},
   "outputs": [
    {
     "name": "stdout",
     "output_type": "stream",
     "text": [
      "ISYS1234 Introduction to Programming\n",
      "ISYS5713 Advanced Programming\n"
     ]
    }
   ],
   "source": [
    "isys_1234 = Course(1234, \"Introduction to Programming\", \"This course introduces students to programming\", \"ISYS\", 3)\n",
    "isys_5713 = Course(course_number=5713, \n",
    "                   course_name=\"Advanced Programming\", \n",
    "                   description=\"This course introduces students to advanced programming\", \n",
    "                   department=\"ISYS\",\n",
    "                   credits= 3)\n",
    "print(isys_1234)\n",
    "print(isys_5713)"
   ]
  },
  {
   "cell_type": "markdown",
   "metadata": {},
   "source": [
    "### Your Turn #2\n",
    "Define a new instructor according to the code comments below and follow the steps as outlined.  You should use as many notebook cells as you like (for instance, you may prefer to create one cell for each modification, showing the before and after at each step)."
   ]
  },
  {
   "cell_type": "code",
   "execution_count": 171,
   "metadata": {},
   "outputs": [
    {
     "name": "stdout",
     "output_type": "stream",
     "text": [
      "Instructor:  Alex Abbott\n",
      "First Year Teaching:  2015\n",
      "Courses:\n",
      "ISYS1 ISYS 1234\n",
      "Courses:\n",
      "ISYS1 ISYS 1234\n",
      "ISYS2 ISYS 5713\n",
      "Courses:\n",
      "ISYS2 ISYS 5713\n"
     ]
    }
   ],
   "source": [
    "# Create an instructor called Alex Abbott , he started teaching in 2015 and teaches ISYS1234\n",
    "abbott = Instructor(id=3, first_name=\"Alex\",last_name=\"Abbott\", first_year_teaching=2015)\n",
    "prog_fundamentals = Course(course_number=1, course_name=\"ISYS 1234\", description=\"Programming Fundamentals\", department=\"ISYS\", credits=3)\n",
    "abbott.add_course(prog_fundamentals)\n",
    "\n",
    "# Print out the instructor's details\n",
    "print(\"Instructor: \", abbott)\n",
    "print(\"First Year Teaching: \", abbott.first_year_teaching)\n",
    "\n",
    "# Print out the courses the instructor is teaching\n",
    "print(\"Courses:\")\n",
    "for c in abbott.get_courses():\n",
    "    print(c)\n",
    "\n",
    "# Add a new course for the instructor to teach (ISYS5713)\n",
    "prog_advanced = Course(course_number=2, course_name=\"ISYS 5713\", description=\"Advanced Programming\", department=\"ISYS\", credits=4)\n",
    "abbott.add_course(prog_advanced)\n",
    "\n",
    "# Print out the courses the instructor is teaching\n",
    "print(\"Courses:\")\n",
    "for c in abbott.get_courses():\n",
    "    print(c)\n",
    "\n",
    "# Remove a course for the instructor to teach\n",
    "abbott.remove_course(prog_fundamentals)\n",
    "\n",
    "# Print out the courses the instructor is teaching\n",
    "print(\"Courses:\")\n",
    "for c in abbott.get_courses():\n",
    "    print(c)\n",
    "\n"
   ]
  },
  {
   "cell_type": "markdown",
   "metadata": {},
   "source": [
    "## Step 3 - Creating your own classes\n",
    "Now it's time to venture out on your own.  Here you should create a student class.  Students are a special type of person.  They are similar to instructors in that they also have courses, but they also have some unique features like grade point averages.  They don't have a year they began teaching, so we can't inherit from the instructor class.\n",
    "\n",
    "### Your Turn #3\n",
    "1. Create a student class.  It should be a subclass of `Person`, but also have a list of courses they are currently taking and a current grade point average (int)\n",
    "2. Create a student object for a student called _Susan Smartinez_, you can choose her GPA and which courses she is taking\n",
    "3. Add a course, remove a course, and update her GPA.  Show the results of each step along the way\n",
    "\n",
    "***For extra credit, modify the student class to keep track of the grade for each class and the semester it was taken\n",
    "HINT: You could consider replacing the course list with a dictionary instead.***"
   ]
  },
  {
   "cell_type": "code",
   "execution_count": 172,
   "metadata": {},
   "outputs": [
    {
     "name": "stdout",
     "output_type": "stream",
     "text": [
      "Student Record For: Susan Smartinez\n",
      "Class: ISYS1 ISYS 1234 / Description: Programming Fundamentals / Semester: 2022_Spring / Grade: 3.5\n",
      "GPA = 3.5\n",
      "\n",
      "Student Record For: Susan Smartinez\n",
      "Class: ISYS1 ISYS 1234 / Description: Programming Fundamentals / Semester: 2022_Spring / Grade: 3.5\n",
      "Class: ISYS2 ISYS 5713 / Description: Advanced Programming / Semester: 2023_Fall / Grade: 1.5\n",
      "GPA = 2.36\n",
      "\n",
      "Student Record For: Susan Smartinez\n",
      "Class: ISYS1 ISYS 1234 / Description: Programming Fundamentals / Semester: 2022_Spring / Grade: 3.5\n",
      "GPA = 3.5\n",
      "\n",
      "Student Record For: Susan Smartinez\n",
      "Class: ISYS1 ISYS 1234 / Description: Programming Fundamentals / Semester: 2022_Spring / Grade: 3.5\n",
      "Class: ISYS2 ISYS 5713 / Description: Advanced Programming / Semester: 2023_Fall / Grade: 3.5\n",
      "GPA = 3.5\n",
      "\n",
      "Student Record For: Susan Smartinez\n",
      "Class: ISYS1 ISYS 1234 / Description: Programming Fundamentals / Semester: 2022_Spring / Grade: 4\n",
      "Class: ISYS2 ISYS 5713 / Description: Advanced Programming / Semester: 2023_Fall / Grade: 3.5\n",
      "GPA = 3.71\n",
      "\n",
      "Student Record For: Susan Smartinez\n",
      "Class: ISYS1 ISYS 1234 / Description: Programming Fundamentals / Semester: 2022_Spring / Grade: 4\n",
      "Class: ISYS2 ISYS 5713 / Description: Advanced Programming / Semester: 2023_Fall / Grade: 4\n",
      "GPA = 4.0\n",
      "\n"
     ]
    }
   ],
   "source": [
    "abbott.add_course(prog_fundamentals)\n",
    "\n",
    "class Course_Record(Course):\n",
    "    grade = 0\n",
    "    semester = \"\"\n",
    "\n",
    "    def __init__(self, course, grade, semester):\n",
    "        self.grade = grade\n",
    "        self.semester = semester\n",
    "        self.course = course\n",
    "    \n",
    "    def __str__(self):\n",
    "        return f'{\"Class: \"}'f'{self.course}'f'{\" / Description: \"}'f'{self.course.description}'f'{\" / Semester: \"}'f'{self.semester}'f'{\" / Grade: \"}'f'{self.grade}'\n",
    "\n",
    "#1. Create a student class.  It should be a subclass of `Person`, but also have a list of courses they are currently taking and a current grade point average (int)\n",
    "class Student(Person):\n",
    "    courses_enrolled = []\n",
    "    gpa = 0\n",
    "\n",
    "    def __init__(self, id, first_name, last_name):\n",
    "         self.id = id\n",
    "         self.first_name = first_name\n",
    "         self.last_name = last_name\n",
    "    \n",
    "    def get_course(self, course_number):\n",
    "        return next((c for c in abbott.get_courses() if c.course_number == course_number), \"Invalid Course Number\")\n",
    "\n",
    "    def get_course_record(self, course_number, semester):\n",
    "        return next((c for c in self.courses_enrolled if c.course.course_number == course_number and c.semester == semester), \"Invalid Course/Semester Combination\")\n",
    "\n",
    "    def add_enrollment(self, course_number, grade, semester):\n",
    "        cr = Course_Record(self.get_course(course_number), grade, semester)\n",
    "        self.courses_enrolled.append(cr)\n",
    "\n",
    "    def remove_enrollment(self, course_number, semester):\n",
    "        self.courses_enrolled.remove(self.get_course_record(course_number, semester))\n",
    "\n",
    "    def update_grade(self, course_number, grade, semester):\n",
    "        self.get_course_record(course_number, semester).grade = grade\n",
    "    \n",
    "    def display_record(self):\n",
    "        print(f'{\"Student Record For: \"}'f'{self}')\n",
    "        for c in self.courses_enrolled:\n",
    "            print(c)\n",
    "        print(f'{\"GPA = \"}'f'{self.get_gpa()}')\n",
    "        print()\n",
    "    \n",
    "    def get_gpa(self):\n",
    "        credits = 0\n",
    "        grade_sum = 0\n",
    "        for c in self.courses_enrolled:\n",
    "            credits = credits + c.course.credits\n",
    "            grade_sum = grade_sum + (c.grade * c.course.credits)\n",
    "        gpa = grade_sum / credits\n",
    "        return round(gpa, 2)\n",
    "\n",
    "#2. Create a student object for a student called _Susan Smartinez_, you can choose her GPA and which courses she is taking\n",
    "susan = Student(1, \"Susan\", \"Smartinez\")\n",
    "\n",
    "susan.add_enrollment(1, 3.5, \"2022_Spring\")\n",
    "susan.display_record()\n",
    "\n",
    "susan.add_enrollment(2, 1.5, \"2023_Fall\")\n",
    "susan.display_record()\n",
    "\n",
    "#3. Add a course, remove a course, and update her GPA.  Show the results of each step along the way\n",
    "susan.remove_enrollment(2, \"2023_Fall\")\n",
    "susan.display_record()\n",
    "\n",
    "susan.add_enrollment(2, 3.5, \"2023_Fall\")\n",
    "susan.display_record()\n",
    "\n",
    "susan.update_grade(1, 4, \"2022_Spring\")\n",
    "susan.display_record()\n",
    "\n",
    "susan.update_grade(2, 4, \"2023_Fall\")\n",
    "susan.display_record()\n",
    "\n",
    "\n",
    "\n"
   ]
  }
 ],
 "metadata": {
  "kernelspec": {
   "display_name": "Python 3",
   "language": "python",
   "name": "python3"
  },
  "language_info": {
   "codemirror_mode": {
    "name": "ipython",
    "version": 3
   },
   "file_extension": ".py",
   "mimetype": "text/x-python",
   "name": "python",
   "nbconvert_exporter": "python",
   "pygments_lexer": "ipython3",
   "version": "3.11.5"
  },
  "orig_nbformat": 4
 },
 "nbformat": 4,
 "nbformat_minor": 2
}
